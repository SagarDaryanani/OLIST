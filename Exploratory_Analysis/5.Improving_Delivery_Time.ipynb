{
 "cells": [
  {
   "cell_type": "code",
   "execution_count": 1,
   "metadata": {},
   "outputs": [],
   "source": [
    "import seaborn as sns\n",
    "import pandas as pd\n",
    "import numpy as np\n",
    "import matplotlib.pyplot as plt\n",
    "import statsmodels.formula.api as smf\n",
    "import statsmodels.api as sm"
   ]
  },
  {
   "attachments": {},
   "cell_type": "markdown",
   "metadata": {},
   "source": [
    "# Improving Olist's Estimated Delivery Time (ETA)"
   ]
  },
  {
   "attachments": {},
   "cell_type": "markdown",
   "metadata": {},
   "source": [
    "👉 `Estimated Time of Arrival (ETA)` is a key component of modern e-commerce services. It allows companies to manage customer expectations by showing a predicted date for customer delivery.\n",
    "\n",
    "🎯 In this challenge, we will build a predictive model that `estimates the wait time` of an order.\n",
    "\n",
    "☑️ Olist already has its own predictions under the variable `expected_wait_time`\n",
    "\n",
    "🚀 Let's challenge ourselves to do better predictions and at the end of this recap, \n",
    "we will compare:\n",
    "* our `estimated_wait_time`\n",
    "* Olist's `expected_wait_time`\n",
    "* the real `wait_time` for each order delivered"
   ]
  },
  {
   "attachments": {},
   "cell_type": "markdown",
   "metadata": {},
   "source": [
    "## Load and check `orders` dataset\n",
    "👉 `Order().get_training_data()` (include `distance_seller_customer`)"
   ]
  },
  {
   "cell_type": "code",
   "execution_count": 2,
   "metadata": {},
   "outputs": [
    {
     "data": {
      "text/html": [
       "<div>\n",
       "<style scoped>\n",
       "    .dataframe tbody tr th:only-of-type {\n",
       "        vertical-align: middle;\n",
       "    }\n",
       "\n",
       "    .dataframe tbody tr th {\n",
       "        vertical-align: top;\n",
       "    }\n",
       "\n",
       "    .dataframe thead th {\n",
       "        text-align: right;\n",
       "    }\n",
       "</style>\n",
       "<table border=\"1\" class=\"dataframe\">\n",
       "  <thead>\n",
       "    <tr style=\"text-align: right;\">\n",
       "      <th></th>\n",
       "      <th>order_id</th>\n",
       "      <th>wait_time</th>\n",
       "      <th>expected_wait_time</th>\n",
       "      <th>delay_vs_expected</th>\n",
       "      <th>order_status</th>\n",
       "      <th>dim_is_five_star</th>\n",
       "      <th>dim_is_one_star</th>\n",
       "      <th>review_score</th>\n",
       "      <th>number_of_products</th>\n",
       "      <th>number_of_sellers</th>\n",
       "      <th>price</th>\n",
       "      <th>freight_value</th>\n",
       "      <th>distance_seller_customer</th>\n",
       "    </tr>\n",
       "  </thead>\n",
       "  <tbody>\n",
       "    <tr>\n",
       "      <th>0</th>\n",
       "      <td>e481f51cbdc54678b7cc49136f2d6af7</td>\n",
       "      <td>8.436574</td>\n",
       "      <td>15.544063</td>\n",
       "      <td>0.0</td>\n",
       "      <td>delivered</td>\n",
       "      <td>0</td>\n",
       "      <td>0</td>\n",
       "      <td>4</td>\n",
       "      <td>1</td>\n",
       "      <td>1</td>\n",
       "      <td>29.99</td>\n",
       "      <td>8.72</td>\n",
       "      <td>18.063837</td>\n",
       "    </tr>\n",
       "    <tr>\n",
       "      <th>1</th>\n",
       "      <td>53cdb2fc8bc7dce0b6741e2150273451</td>\n",
       "      <td>13.782037</td>\n",
       "      <td>19.137766</td>\n",
       "      <td>0.0</td>\n",
       "      <td>delivered</td>\n",
       "      <td>0</td>\n",
       "      <td>0</td>\n",
       "      <td>4</td>\n",
       "      <td>1</td>\n",
       "      <td>1</td>\n",
       "      <td>118.70</td>\n",
       "      <td>22.76</td>\n",
       "      <td>856.292580</td>\n",
       "    </tr>\n",
       "    <tr>\n",
       "      <th>2</th>\n",
       "      <td>47770eb9100c2d0c44946d9cf07ec65d</td>\n",
       "      <td>9.394213</td>\n",
       "      <td>26.639711</td>\n",
       "      <td>0.0</td>\n",
       "      <td>delivered</td>\n",
       "      <td>1</td>\n",
       "      <td>0</td>\n",
       "      <td>5</td>\n",
       "      <td>1</td>\n",
       "      <td>1</td>\n",
       "      <td>159.90</td>\n",
       "      <td>19.22</td>\n",
       "      <td>514.130333</td>\n",
       "    </tr>\n",
       "  </tbody>\n",
       "</table>\n",
       "</div>"
      ],
      "text/plain": [
       "                           order_id  wait_time  expected_wait_time  \\\n",
       "0  e481f51cbdc54678b7cc49136f2d6af7   8.436574           15.544063   \n",
       "1  53cdb2fc8bc7dce0b6741e2150273451  13.782037           19.137766   \n",
       "2  47770eb9100c2d0c44946d9cf07ec65d   9.394213           26.639711   \n",
       "\n",
       "   delay_vs_expected order_status  dim_is_five_star  dim_is_one_star  \\\n",
       "0                0.0    delivered                 0                0   \n",
       "1                0.0    delivered                 0                0   \n",
       "2                0.0    delivered                 1                0   \n",
       "\n",
       "   review_score  number_of_products  number_of_sellers   price  freight_value  \\\n",
       "0             4                   1                  1   29.99           8.72   \n",
       "1             4                   1                  1  118.70          22.76   \n",
       "2             5                   1                  1  159.90          19.22   \n",
       "\n",
       "   distance_seller_customer  \n",
       "0                 18.063837  \n",
       "1                856.292580  \n",
       "2                514.130333  "
      ]
     },
     "execution_count": 2,
     "metadata": {},
     "output_type": "execute_result"
    }
   ],
   "source": [
    "from olist.order import Order\n",
    "orders = Order().get_training_data(with_distance_seller_customer=True)\n",
    "orders.head(3)"
   ]
  },
  {
   "cell_type": "code",
   "execution_count": 3,
   "metadata": {},
   "outputs": [
    {
     "name": "stdout",
     "output_type": "stream",
     "text": [
      "<class 'pandas.core.frame.DataFrame'>\n",
      "Int64Index: 95872 entries, 0 to 95879\n",
      "Data columns (total 13 columns):\n",
      " #   Column                    Non-Null Count  Dtype  \n",
      "---  ------                    --------------  -----  \n",
      " 0   order_id                  95872 non-null  object \n",
      " 1   wait_time                 95872 non-null  float64\n",
      " 2   expected_wait_time        95872 non-null  float64\n",
      " 3   delay_vs_expected         95872 non-null  float64\n",
      " 4   order_status              95872 non-null  object \n",
      " 5   dim_is_five_star          95872 non-null  int64  \n",
      " 6   dim_is_one_star           95872 non-null  int64  \n",
      " 7   review_score              95872 non-null  int64  \n",
      " 8   number_of_products        95872 non-null  int64  \n",
      " 9   number_of_sellers         95872 non-null  int64  \n",
      " 10  price                     95872 non-null  float64\n",
      " 11  freight_value             95872 non-null  float64\n",
      " 12  distance_seller_customer  95872 non-null  float64\n",
      "dtypes: float64(6), int64(5), object(2)\n",
      "memory usage: 10.2+ MB\n"
     ]
    }
   ],
   "source": [
    "orders.info()"
   ]
  },
  {
   "attachments": {},
   "cell_type": "markdown",
   "metadata": {},
   "source": [
    "## Baseline Model - Olist’s current ETA model\n",
    "🐣  What's the baseline we want to optimize ❓\n",
    "\n",
    "👉 The delta between Olist' `expected_wait_time` and the real `wait_time`\n",
    "\n",
    "📈 Plot their respective histograms"
   ]
  },
  {
   "cell_type": "code",
   "execution_count": 4,
   "metadata": {},
   "outputs": [
    {
     "data": {
      "text/plain": [
       "<matplotlib.legend.Legend at 0x14d697790>"
      ]
     },
     "execution_count": 4,
     "metadata": {},
     "output_type": "execute_result"
    },
    {
     "data": {
      "image/png": "[encoded data removed]",
      "text/plain": [
       "<Figure size 1000x600 with 1 Axes>"
      ]
     },
     "metadata": {},
     "output_type": "display_data"
    }
   ],
   "source": [
    "# Plot distributions of expected_wait_time and real wait_time\n",
    "plt.figure(figsize = (10,6))\n",
    "sns.kdeplot(orders['wait_time'], label='wait_time')\n",
    "sns.kdeplot(orders['expected_wait_time'], label='expected_wait_time')\n",
    "plt.legend()"
   ]
  },
  {
   "attachments": {},
   "cell_type": "markdown",
   "metadata": {},
   "source": [
    "Lets check the median wait time and the median expected wait time"
   ]
  },
  {
   "cell_type": "code",
   "execution_count": 5,
   "metadata": {},
   "outputs": [
    {
     "data": {
      "text/plain": [
       "wait_time             10.203727\n",
       "expected_wait_time    23.230556\n",
       "dtype: float64"
      ]
     },
     "execution_count": 5,
     "metadata": {},
     "output_type": "execute_result"
    }
   ],
   "source": [
    "# Compute Medians \n",
    "orders[['wait_time','expected_wait_time']].median()"
   ]
  },
  {
   "attachments": {},
   "cell_type": "markdown",
   "metadata": {},
   "source": [
    "Lets compute the baseline RMSE\n",
    "The errors considered here are the misapproximations from OLIST in terms of waiting time"
   ]
  },
  {
   "cell_type": "code",
   "execution_count": 6,
   "metadata": {},
   "outputs": [
    {
     "data": {
      "text/plain": [
       "15.110701386210625"
      ]
     },
     "execution_count": 6,
     "metadata": {},
     "output_type": "execute_result"
    }
   ],
   "source": [
    "errors_from_olist = orders['expected_wait_time']-orders['wait_time']\n",
    "baseline_RMSE = ((errors_from_olist**2).mean())**0.5\n",
    "baseline_RMSE"
   ]
  },
  {
   "attachments": {},
   "cell_type": "markdown",
   "metadata": {},
   "source": [
    "## OLS multivariate model\n",
    "👉 We will create an OLS model using the `statsmodel.api.OLS` method this time.\n",
    "\n",
    "(instead of `statsmodel.formula.api.ols`) \n",
    "### Prepare the dataset with the  features X and the target Y"
   ]
  },
  {
   "cell_type": "code",
   "execution_count": 12,
   "metadata": {},
   "outputs": [
    {
     "data": {
      "text/plain": [
       "Index(['order_id', 'wait_time', 'expected_wait_time', 'delay_vs_expected',\n",
       "       'order_status', 'dim_is_five_star', 'dim_is_one_star', 'review_score',\n",
       "       'number_of_products', 'number_of_sellers', 'price', 'freight_value',\n",
       "       'distance_seller_customer'],\n",
       "      dtype='object')"
      ]
     },
     "execution_count": 12,
     "metadata": {},
     "output_type": "execute_result"
    }
   ],
   "source": [
    "orders.columns"
   ]
  },
  {
   "cell_type": "code",
   "execution_count": 13,
   "metadata": {},
   "outputs": [],
   "source": [
    "# Create target variable y (Series) and feature X (DataFrame)\n",
    "\n",
    "y=orders['wait_time'].copy()\n",
    "X=orders[['number_of_products','number_of_sellers','price','freight_value','distance_seller_customer']].copy()"
   ]
  },
  {
   "cell_type": "code",
   "execution_count": 14,
   "metadata": {},
   "outputs": [
    {
     "data": {
      "text/html": [
       "<div>\n",
       "<style scoped>\n",
       "    .dataframe tbody tr th:only-of-type {\n",
       "        vertical-align: middle;\n",
       "    }\n",
       "\n",
       "    .dataframe tbody tr th {\n",
       "        vertical-align: top;\n",
       "    }\n",
       "\n",
       "    .dataframe thead th {\n",
       "        text-align: right;\n",
       "    }\n",
       "</style>\n",
       "<table border=\"1\" class=\"dataframe\">\n",
       "  <thead>\n",
       "    <tr style=\"text-align: right;\">\n",
       "      <th></th>\n",
       "      <th>number_of_products</th>\n",
       "      <th>number_of_sellers</th>\n",
       "      <th>price</th>\n",
       "      <th>freight_value</th>\n",
       "      <th>distance_seller_customer</th>\n",
       "    </tr>\n",
       "  </thead>\n",
       "  <tbody>\n",
       "    <tr>\n",
       "      <th>0</th>\n",
       "      <td>1</td>\n",
       "      <td>1</td>\n",
       "      <td>29.99</td>\n",
       "      <td>8.72</td>\n",
       "      <td>18.063837</td>\n",
       "    </tr>\n",
       "    <tr>\n",
       "      <th>1</th>\n",
       "      <td>1</td>\n",
       "      <td>1</td>\n",
       "      <td>118.70</td>\n",
       "      <td>22.76</td>\n",
       "      <td>856.292580</td>\n",
       "    </tr>\n",
       "    <tr>\n",
       "      <th>2</th>\n",
       "      <td>1</td>\n",
       "      <td>1</td>\n",
       "      <td>159.90</td>\n",
       "      <td>19.22</td>\n",
       "      <td>514.130333</td>\n",
       "    </tr>\n",
       "    <tr>\n",
       "      <th>3</th>\n",
       "      <td>1</td>\n",
       "      <td>1</td>\n",
       "      <td>45.00</td>\n",
       "      <td>27.20</td>\n",
       "      <td>1822.800366</td>\n",
       "    </tr>\n",
       "    <tr>\n",
       "      <th>4</th>\n",
       "      <td>1</td>\n",
       "      <td>1</td>\n",
       "      <td>19.90</td>\n",
       "      <td>8.72</td>\n",
       "      <td>30.174037</td>\n",
       "    </tr>\n",
       "    <tr>\n",
       "      <th>...</th>\n",
       "      <td>...</td>\n",
       "      <td>...</td>\n",
       "      <td>...</td>\n",
       "      <td>...</td>\n",
       "      <td>...</td>\n",
       "    </tr>\n",
       "    <tr>\n",
       "      <th>95875</th>\n",
       "      <td>1</td>\n",
       "      <td>1</td>\n",
       "      <td>72.00</td>\n",
       "      <td>13.08</td>\n",
       "      <td>69.481037</td>\n",
       "    </tr>\n",
       "    <tr>\n",
       "      <th>95876</th>\n",
       "      <td>1</td>\n",
       "      <td>1</td>\n",
       "      <td>174.90</td>\n",
       "      <td>20.10</td>\n",
       "      <td>474.098245</td>\n",
       "    </tr>\n",
       "    <tr>\n",
       "      <th>95877</th>\n",
       "      <td>1</td>\n",
       "      <td>1</td>\n",
       "      <td>205.99</td>\n",
       "      <td>65.02</td>\n",
       "      <td>968.051192</td>\n",
       "    </tr>\n",
       "    <tr>\n",
       "      <th>95878</th>\n",
       "      <td>2</td>\n",
       "      <td>1</td>\n",
       "      <td>359.98</td>\n",
       "      <td>81.18</td>\n",
       "      <td>370.146853</td>\n",
       "    </tr>\n",
       "    <tr>\n",
       "      <th>95879</th>\n",
       "      <td>1</td>\n",
       "      <td>1</td>\n",
       "      <td>68.50</td>\n",
       "      <td>18.36</td>\n",
       "      <td>631.817784</td>\n",
       "    </tr>\n",
       "  </tbody>\n",
       "</table>\n",
       "<p>95872 rows × 5 columns</p>\n",
       "</div>"
      ],
      "text/plain": [
       "       number_of_products  number_of_sellers   price  freight_value  \\\n",
       "0                       1                  1   29.99           8.72   \n",
       "1                       1                  1  118.70          22.76   \n",
       "2                       1                  1  159.90          19.22   \n",
       "3                       1                  1   45.00          27.20   \n",
       "4                       1                  1   19.90           8.72   \n",
       "...                   ...                ...     ...            ...   \n",
       "95875                   1                  1   72.00          13.08   \n",
       "95876                   1                  1  174.90          20.10   \n",
       "95877                   1                  1  205.99          65.02   \n",
       "95878                   2                  1  359.98          81.18   \n",
       "95879                   1                  1   68.50          18.36   \n",
       "\n",
       "       distance_seller_customer  \n",
       "0                     18.063837  \n",
       "1                    856.292580  \n",
       "2                    514.130333  \n",
       "3                   1822.800366  \n",
       "4                     30.174037  \n",
       "...                         ...  \n",
       "95875                 69.481037  \n",
       "95876                474.098245  \n",
       "95877                968.051192  \n",
       "95878                370.146853  \n",
       "95879                631.817784  \n",
       "\n",
       "[95872 rows x 5 columns]"
      ]
     },
     "execution_count": 14,
     "metadata": {},
     "output_type": "execute_result"
    }
   ],
   "source": [
    "X"
   ]
  },
  {
   "attachments": {},
   "cell_type": "markdown",
   "metadata": {},
   "source": [
    "We must standardize (`z-score`) each feature of X to compare regression coefficients that will result from the OLS:"
   ]
  },
  {
   "cell_type": "code",
   "execution_count": 17,
   "metadata": {},
   "outputs": [
    {
     "data": {
      "text/html": [
       "<div>\n",
       "<style scoped>\n",
       "    .dataframe tbody tr th:only-of-type {\n",
       "        vertical-align: middle;\n",
       "    }\n",
       "\n",
       "    .dataframe tbody tr th {\n",
       "        vertical-align: top;\n",
       "    }\n",
       "\n",
       "    .dataframe thead th {\n",
       "        text-align: right;\n",
       "    }\n",
       "</style>\n",
       "<table border=\"1\" class=\"dataframe\">\n",
       "  <thead>\n",
       "    <tr style=\"text-align: right;\">\n",
       "      <th></th>\n",
       "      <th>number_of_products</th>\n",
       "      <th>number_of_sellers</th>\n",
       "      <th>price</th>\n",
       "      <th>freight_value</th>\n",
       "      <th>distance_seller_customer</th>\n",
       "    </tr>\n",
       "  </thead>\n",
       "  <tbody>\n",
       "    <tr>\n",
       "      <th>0</th>\n",
       "      <td>-0.264595</td>\n",
       "      <td>-0.112544</td>\n",
       "      <td>-0.513802</td>\n",
       "      <td>-0.652038</td>\n",
       "      <td>-0.979475</td>\n",
       "    </tr>\n",
       "    <tr>\n",
       "      <th>1</th>\n",
       "      <td>-0.264595</td>\n",
       "      <td>-0.112544</td>\n",
       "      <td>-0.086640</td>\n",
       "      <td>0.000467</td>\n",
       "      <td>0.429743</td>\n",
       "    </tr>\n",
       "    <tr>\n",
       "      <th>2</th>\n",
       "      <td>-0.264595</td>\n",
       "      <td>-0.112544</td>\n",
       "      <td>0.111748</td>\n",
       "      <td>-0.164053</td>\n",
       "      <td>-0.145495</td>\n",
       "    </tr>\n",
       "    <tr>\n",
       "      <th>3</th>\n",
       "      <td>-0.264595</td>\n",
       "      <td>-0.112544</td>\n",
       "      <td>-0.441525</td>\n",
       "      <td>0.206815</td>\n",
       "      <td>2.054621</td>\n",
       "    </tr>\n",
       "    <tr>\n",
       "      <th>4</th>\n",
       "      <td>-0.264595</td>\n",
       "      <td>-0.112544</td>\n",
       "      <td>-0.562388</td>\n",
       "      <td>-0.652038</td>\n",
       "      <td>-0.959115</td>\n",
       "    </tr>\n",
       "    <tr>\n",
       "      <th>...</th>\n",
       "      <td>...</td>\n",
       "      <td>...</td>\n",
       "      <td>...</td>\n",
       "      <td>...</td>\n",
       "      <td>...</td>\n",
       "    </tr>\n",
       "    <tr>\n",
       "      <th>95875</th>\n",
       "      <td>-0.264595</td>\n",
       "      <td>-0.112544</td>\n",
       "      <td>-0.311513</td>\n",
       "      <td>-0.449408</td>\n",
       "      <td>-0.893033</td>\n",
       "    </tr>\n",
       "    <tr>\n",
       "      <th>95876</th>\n",
       "      <td>-0.264595</td>\n",
       "      <td>-0.112544</td>\n",
       "      <td>0.183977</td>\n",
       "      <td>-0.123156</td>\n",
       "      <td>-0.212797</td>\n",
       "    </tr>\n",
       "    <tr>\n",
       "      <th>95877</th>\n",
       "      <td>-0.264595</td>\n",
       "      <td>-0.112544</td>\n",
       "      <td>0.333684</td>\n",
       "      <td>1.964490</td>\n",
       "      <td>0.617630</td>\n",
       "    </tr>\n",
       "    <tr>\n",
       "      <th>95878</th>\n",
       "      <td>1.601605</td>\n",
       "      <td>-0.112544</td>\n",
       "      <td>1.075186</td>\n",
       "      <td>2.715522</td>\n",
       "      <td>-0.387558</td>\n",
       "    </tr>\n",
       "    <tr>\n",
       "      <th>95879</th>\n",
       "      <td>-0.264595</td>\n",
       "      <td>-0.112544</td>\n",
       "      <td>-0.328367</td>\n",
       "      <td>-0.204022</td>\n",
       "      <td>0.052359</td>\n",
       "    </tr>\n",
       "  </tbody>\n",
       "</table>\n",
       "<p>95872 rows × 5 columns</p>\n",
       "</div>"
      ],
      "text/plain": [
       "       number_of_products  number_of_sellers     price  freight_value  \\\n",
       "0               -0.264595          -0.112544 -0.513802      -0.652038   \n",
       "1               -0.264595          -0.112544 -0.086640       0.000467   \n",
       "2               -0.264595          -0.112544  0.111748      -0.164053   \n",
       "3               -0.264595          -0.112544 -0.441525       0.206815   \n",
       "4               -0.264595          -0.112544 -0.562388      -0.652038   \n",
       "...                   ...                ...       ...            ...   \n",
       "95875           -0.264595          -0.112544 -0.311513      -0.449408   \n",
       "95876           -0.264595          -0.112544  0.183977      -0.123156   \n",
       "95877           -0.264595          -0.112544  0.333684       1.964490   \n",
       "95878            1.601605          -0.112544  1.075186       2.715522   \n",
       "95879           -0.264595          -0.112544 -0.328367      -0.204022   \n",
       "\n",
       "       distance_seller_customer  \n",
       "0                     -0.979475  \n",
       "1                      0.429743  \n",
       "2                     -0.145495  \n",
       "3                      2.054621  \n",
       "4                     -0.959115  \n",
       "...                         ...  \n",
       "95875                 -0.893033  \n",
       "95876                 -0.212797  \n",
       "95877                  0.617630  \n",
       "95878                 -0.387558  \n",
       "95879                  0.052359  \n",
       "\n",
       "[95872 rows x 5 columns]"
      ]
     },
     "execution_count": 17,
     "metadata": {},
     "output_type": "execute_result"
    }
   ],
   "source": [
    "X_std = X.copy()\n",
    "\n",
    "for f in X.columns:\n",
    "    mu = X[f].mean()\n",
    "    sigma = X[f].std()\n",
    "    X_std[f] = X[f].map(lambda x: (x - mu) / sigma)\n",
    "    \n",
    "X_std"
   ]
  },
  {
   "cell_type": "code",
   "execution_count": 18,
   "metadata": {},
   "outputs": [
    {
     "data": {
      "text/plain": [
       "DesignMatrix with shape (95872, 3)\n",
       "  Intercept   price  distance_seller_customer\n",
       "          1   29.99                  18.06384\n",
       "          1  118.70                 856.29258\n",
       "          1  159.90                 514.13033\n",
       "          1   45.00                1822.80037\n",
       "          1   19.90                  30.17404\n",
       "          1  147.90                 411.95300\n",
       "          1   59.99                 321.73040\n",
       "          1   19.90                 872.66930\n",
       "          1  149.99                 111.51773\n",
       "          1  198.00                 413.25219\n",
       "          1   98.00                 844.97722\n",
       "          1   31.90                 452.20571\n",
       "          1   19.90                 308.45551\n",
       "          1   38.25                 430.59899\n",
       "          1  132.40                 161.60460\n",
       "          1   27.99                 547.73905\n",
       "          1   17.90                 209.39770\n",
       "          1   76.00                1434.17366\n",
       "          1  109.90                  11.84639\n",
       "          1   79.99                  19.27366\n",
       "          1    9.50                   6.69479\n",
       "          1  129.99                 489.54618\n",
       "          1   89.90                 235.84472\n",
       "          1  109.90                 326.89544\n",
       "          1  130.40                1468.60489\n",
       "          1   47.90                 106.81688\n",
       "          1  178.99                 310.26792\n",
       "          1   30.10                3381.78601\n",
       "          1  279.00                 116.97563\n",
       "          1  186.90                2063.11418\n",
       "  [95842 rows omitted]\n",
       "  Terms:\n",
       "    'Intercept' (column 0)\n",
       "    'price' (column 1)\n",
       "    'distance_seller_customer' (column 2)\n",
       "  (to view full data, use np.asarray(this_obj))"
      ]
     },
     "execution_count": 18,
     "metadata": {},
     "output_type": "execute_result"
    }
   ],
   "source": [
    "# Check how different is it from the \"formula\" in statsmodel\n",
    "import patsy\n",
    "patsy.dmatrix('price + distance_seller_customer', orders)"
   ]
  },
  {
   "cell_type": "markdown",
   "metadata": {},
   "source": [
    "⚠️ With this `statsmodel.api.OLS`, we always need to add a constant \"intercept\" to the features dataset:"
   ]
  },
  {
   "cell_type": "code",
   "execution_count": 20,
   "metadata": {},
   "outputs": [
    {
     "data": {
      "text/html": [
       "<div>\n",
       "<style scoped>\n",
       "    .dataframe tbody tr th:only-of-type {\n",
       "        vertical-align: middle;\n",
       "    }\n",
       "\n",
       "    .dataframe tbody tr th {\n",
       "        vertical-align: top;\n",
       "    }\n",
       "\n",
       "    .dataframe thead th {\n",
       "        text-align: right;\n",
       "    }\n",
       "</style>\n",
       "<table border=\"1\" class=\"dataframe\">\n",
       "  <thead>\n",
       "    <tr style=\"text-align: right;\">\n",
       "      <th></th>\n",
       "      <th>number_of_products</th>\n",
       "      <th>number_of_sellers</th>\n",
       "      <th>price</th>\n",
       "      <th>freight_value</th>\n",
       "      <th>distance_seller_customer</th>\n",
       "      <th>constant</th>\n",
       "    </tr>\n",
       "  </thead>\n",
       "  <tbody>\n",
       "    <tr>\n",
       "      <th>0</th>\n",
       "      <td>-0.264595</td>\n",
       "      <td>-0.112544</td>\n",
       "      <td>-0.513802</td>\n",
       "      <td>-0.652038</td>\n",
       "      <td>-0.979475</td>\n",
       "      <td>1</td>\n",
       "    </tr>\n",
       "    <tr>\n",
       "      <th>1</th>\n",
       "      <td>-0.264595</td>\n",
       "      <td>-0.112544</td>\n",
       "      <td>-0.086640</td>\n",
       "      <td>0.000467</td>\n",
       "      <td>0.429743</td>\n",
       "      <td>1</td>\n",
       "    </tr>\n",
       "    <tr>\n",
       "      <th>2</th>\n",
       "      <td>-0.264595</td>\n",
       "      <td>-0.112544</td>\n",
       "      <td>0.111748</td>\n",
       "      <td>-0.164053</td>\n",
       "      <td>-0.145495</td>\n",
       "      <td>1</td>\n",
       "    </tr>\n",
       "    <tr>\n",
       "      <th>3</th>\n",
       "      <td>-0.264595</td>\n",
       "      <td>-0.112544</td>\n",
       "      <td>-0.441525</td>\n",
       "      <td>0.206815</td>\n",
       "      <td>2.054621</td>\n",
       "      <td>1</td>\n",
       "    </tr>\n",
       "    <tr>\n",
       "      <th>4</th>\n",
       "      <td>-0.264595</td>\n",
       "      <td>-0.112544</td>\n",
       "      <td>-0.562388</td>\n",
       "      <td>-0.652038</td>\n",
       "      <td>-0.959115</td>\n",
       "      <td>1</td>\n",
       "    </tr>\n",
       "    <tr>\n",
       "      <th>...</th>\n",
       "      <td>...</td>\n",
       "      <td>...</td>\n",
       "      <td>...</td>\n",
       "      <td>...</td>\n",
       "      <td>...</td>\n",
       "      <td>...</td>\n",
       "    </tr>\n",
       "    <tr>\n",
       "      <th>95875</th>\n",
       "      <td>-0.264595</td>\n",
       "      <td>-0.112544</td>\n",
       "      <td>-0.311513</td>\n",
       "      <td>-0.449408</td>\n",
       "      <td>-0.893033</td>\n",
       "      <td>1</td>\n",
       "    </tr>\n",
       "    <tr>\n",
       "      <th>95876</th>\n",
       "      <td>-0.264595</td>\n",
       "      <td>-0.112544</td>\n",
       "      <td>0.183977</td>\n",
       "      <td>-0.123156</td>\n",
       "      <td>-0.212797</td>\n",
       "      <td>1</td>\n",
       "    </tr>\n",
       "    <tr>\n",
       "      <th>95877</th>\n",
       "      <td>-0.264595</td>\n",
       "      <td>-0.112544</td>\n",
       "      <td>0.333684</td>\n",
       "      <td>1.964490</td>\n",
       "      <td>0.617630</td>\n",
       "      <td>1</td>\n",
       "    </tr>\n",
       "    <tr>\n",
       "      <th>95878</th>\n",
       "      <td>1.601605</td>\n",
       "      <td>-0.112544</td>\n",
       "      <td>1.075186</td>\n",
       "      <td>2.715522</td>\n",
       "      <td>-0.387558</td>\n",
       "      <td>1</td>\n",
       "    </tr>\n",
       "    <tr>\n",
       "      <th>95879</th>\n",
       "      <td>-0.264595</td>\n",
       "      <td>-0.112544</td>\n",
       "      <td>-0.328367</td>\n",
       "      <td>-0.204022</td>\n",
       "      <td>0.052359</td>\n",
       "      <td>1</td>\n",
       "    </tr>\n",
       "  </tbody>\n",
       "</table>\n",
       "<p>95872 rows × 6 columns</p>\n",
       "</div>"
      ],
      "text/plain": [
       "       number_of_products  number_of_sellers     price  freight_value  \\\n",
       "0               -0.264595          -0.112544 -0.513802      -0.652038   \n",
       "1               -0.264595          -0.112544 -0.086640       0.000467   \n",
       "2               -0.264595          -0.112544  0.111748      -0.164053   \n",
       "3               -0.264595          -0.112544 -0.441525       0.206815   \n",
       "4               -0.264595          -0.112544 -0.562388      -0.652038   \n",
       "...                   ...                ...       ...            ...   \n",
       "95875           -0.264595          -0.112544 -0.311513      -0.449408   \n",
       "95876           -0.264595          -0.112544  0.183977      -0.123156   \n",
       "95877           -0.264595          -0.112544  0.333684       1.964490   \n",
       "95878            1.601605          -0.112544  1.075186       2.715522   \n",
       "95879           -0.264595          -0.112544 -0.328367      -0.204022   \n",
       "\n",
       "       distance_seller_customer  constant  \n",
       "0                     -0.979475         1  \n",
       "1                      0.429743         1  \n",
       "2                     -0.145495         1  \n",
       "3                      2.054621         1  \n",
       "4                     -0.959115         1  \n",
       "...                         ...       ...  \n",
       "95875                 -0.893033         1  \n",
       "95876                 -0.212797         1  \n",
       "95877                  0.617630         1  \n",
       "95878                 -0.387558         1  \n",
       "95879                  0.052359         1  \n",
       "\n",
       "[95872 rows x 6 columns]"
      ]
     },
     "execution_count": 20,
     "metadata": {},
     "output_type": "execute_result"
    }
   ],
   "source": [
    "X_std['constant'] = 1\n",
    "X_std"
   ]
  },
  {
   "attachments": {},
   "cell_type": "markdown",
   "metadata": {},
   "source": [
    "### Run OLS with `statsmodels` and print `summary`"
   ]
  },
  {
   "cell_type": "code",
   "execution_count": 21,
   "metadata": {},
   "outputs": [
    {
     "data": {
      "text/html": [
       "<table class=\"simpletable\">\n",
       "<caption>OLS Regression Results</caption>\n",
       "<tr>\n",
       "  <th>Dep. Variable:</th>        <td>wait_time</td>    <th>  R-squared:         </th>  <td>   0.161</td>  \n",
       "</tr>\n",
       "<tr>\n",
       "  <th>Model:</th>                   <td>OLS</td>       <th>  Adj. R-squared:    </th>  <td>   0.161</td>  \n",
       "</tr>\n",
       "<tr>\n",
       "  <th>Method:</th>             <td>Least Squares</td>  <th>  F-statistic:       </th>  <td>   3676.</td>  \n",
       "</tr>\n",
       "<tr>\n",
       "  <th>Date:</th>             <td>Sun, 30 Apr 2023</td> <th>  Prob (F-statistic):</th>   <td>  0.00</td>   \n",
       "</tr>\n",
       "<tr>\n",
       "  <th>Time:</th>                 <td>11:25:52</td>     <th>  Log-Likelihood:    </th> <td>-3.4301e+05</td>\n",
       "</tr>\n",
       "<tr>\n",
       "  <th>No. Observations:</th>      <td> 95872</td>      <th>  AIC:               </th>  <td>6.860e+05</td> \n",
       "</tr>\n",
       "<tr>\n",
       "  <th>Df Residuals:</th>          <td> 95866</td>      <th>  BIC:               </th>  <td>6.861e+05</td> \n",
       "</tr>\n",
       "<tr>\n",
       "  <th>Df Model:</th>              <td>     5</td>      <th>                     </th>      <td> </td>     \n",
       "</tr>\n",
       "<tr>\n",
       "  <th>Covariance Type:</th>      <td>nonrobust</td>    <th>                     </th>      <td> </td>     \n",
       "</tr>\n",
       "</table>\n",
       "<table class=\"simpletable\">\n",
       "<tr>\n",
       "              <td></td>                <th>coef</th>     <th>std err</th>      <th>t</th>      <th>P>|t|</th>  <th>[0.025</th>    <th>0.975]</th>  \n",
       "</tr>\n",
       "<tr>\n",
       "  <th>number_of_products</th>       <td>   -0.3104</td> <td>    0.033</td> <td>   -9.481</td> <td> 0.000</td> <td>   -0.375</td> <td>   -0.246</td>\n",
       "</tr>\n",
       "<tr>\n",
       "  <th>number_of_sellers</th>        <td>   -0.3557</td> <td>    0.029</td> <td>  -12.174</td> <td> 0.000</td> <td>   -0.413</td> <td>   -0.298</td>\n",
       "</tr>\n",
       "<tr>\n",
       "  <th>price</th>                    <td>    0.0474</td> <td>    0.031</td> <td>    1.542</td> <td> 0.123</td> <td>   -0.013</td> <td>    0.108</td>\n",
       "</tr>\n",
       "<tr>\n",
       "  <th>freight_value</th>            <td>    0.6392</td> <td>    0.036</td> <td>   17.717</td> <td> 0.000</td> <td>    0.568</td> <td>    0.710</td>\n",
       "</tr>\n",
       "<tr>\n",
       "  <th>distance_seller_customer</th> <td>    3.5219</td> <td>    0.030</td> <td>  117.298</td> <td> 0.000</td> <td>    3.463</td> <td>    3.581</td>\n",
       "</tr>\n",
       "<tr>\n",
       "  <th>constant</th>                 <td>   12.5134</td> <td>    0.028</td> <td>  447.350</td> <td> 0.000</td> <td>   12.459</td> <td>   12.568</td>\n",
       "</tr>\n",
       "</table>\n",
       "<table class=\"simpletable\">\n",
       "<tr>\n",
       "  <th>Omnibus:</th>       <td>91515.661</td> <th>  Durbin-Watson:     </th>   <td>   1.989</td>  \n",
       "</tr>\n",
       "<tr>\n",
       "  <th>Prob(Omnibus):</th>  <td> 0.000</td>   <th>  Jarque-Bera (JB):  </th> <td>10123039.937</td>\n",
       "</tr>\n",
       "<tr>\n",
       "  <th>Skew:</th>           <td> 4.333</td>   <th>  Prob(JB):          </th>   <td>    0.00</td>  \n",
       "</tr>\n",
       "<tr>\n",
       "  <th>Kurtosis:</th>       <td>52.589</td>   <th>  Cond. No.          </th>   <td>    2.18</td>  \n",
       "</tr>\n",
       "</table><br/><br/>Notes:<br/>[1] Standard Errors assume that the covariance matrix of the errors is correctly specified."
      ],
      "text/plain": [
       "<class 'statsmodels.iolib.summary.Summary'>\n",
       "\"\"\"\n",
       "                            OLS Regression Results                            \n",
       "==============================================================================\n",
       "Dep. Variable:              wait_time   R-squared:                       0.161\n",
       "Model:                            OLS   Adj. R-squared:                  0.161\n",
       "Method:                 Least Squares   F-statistic:                     3676.\n",
       "Date:                Sun, 30 Apr 2023   Prob (F-statistic):               0.00\n",
       "Time:                        11:25:52   Log-Likelihood:            -3.4301e+05\n",
       "No. Observations:               95872   AIC:                         6.860e+05\n",
       "Df Residuals:                   95866   BIC:                         6.861e+05\n",
       "Df Model:                           5                                         \n",
       "Covariance Type:            nonrobust                                         \n",
       "============================================================================================\n",
       "                               coef    std err          t      P>|t|      [0.025      0.975]\n",
       "--------------------------------------------------------------------------------------------\n",
       "number_of_products          -0.3104      0.033     -9.481      0.000      -0.375      -0.246\n",
       "number_of_sellers           -0.3557      0.029    -12.174      0.000      -0.413      -0.298\n",
       "price                        0.0474      0.031      1.542      0.123      -0.013       0.108\n",
       "freight_value                0.6392      0.036     17.717      0.000       0.568       0.710\n",
       "distance_seller_customer     3.5219      0.030    117.298      0.000       3.463       3.581\n",
       "constant                    12.5134      0.028    447.350      0.000      12.459      12.568\n",
       "==============================================================================\n",
       "Omnibus:                    91515.661   Durbin-Watson:                   1.989\n",
       "Prob(Omnibus):                  0.000   Jarque-Bera (JB):         10123039.937\n",
       "Skew:                           4.333   Prob(JB):                         0.00\n",
       "Kurtosis:                      52.589   Cond. No.                         2.18\n",
       "==============================================================================\n",
       "\n",
       "Notes:\n",
       "[1] Standard Errors assume that the covariance matrix of the errors is correctly specified.\n",
       "\"\"\""
      ]
     },
     "execution_count": 21,
     "metadata": {},
     "output_type": "execute_result"
    }
   ],
   "source": [
    "import statsmodels.api as sm\n",
    "import statsmodels.formula.api as smf\n",
    "\n",
    "model = sm.OLS(y,X_std).fit()\n",
    "model.summary()"
   ]
  },
  {
   "attachments": {},
   "cell_type": "markdown",
   "metadata": {},
   "source": [
    "Warnings: \n",
    "[1] Standard Errors assume that the covariance matrix of the errors is correctly specified\n",
    "\n",
    "## Check the performance of your OLS Model\n",
    "\n",
    "#### Goodness of fit \n",
    "👉 Who has the best predictions, you or Olist ? \n",
    "\n",
    "- Compute your predictions and store them in `y_pred`\n",
    "\n",
    "- You can store :\n",
    "    - Olist's predictions in a `y_expected_olist` variable\n",
    "    - the real waiting times in a `y_true` variable\n",
    "\n"
   ]
  },
  {
   "cell_type": "code",
   "execution_count": 22,
   "metadata": {},
   "outputs": [],
   "source": [
    "# Olist predictions \n",
    "y_expected_olist = orders['expected_wait_time']\n",
    "\n",
    "# Your predictions\n",
    "y_pred = model.predict(X_std)\n",
    "\n",
    "# The real waiting times\n",
    "y_true = orders['wait_time']\n"
   ]
  },
  {
   "attachments": {},
   "cell_type": "markdown",
   "metadata": {},
   "source": [
    "Plot `y_pred`, `y_expected_olist`, and `y_true` on the same graph"
   ]
  },
  {
   "cell_type": "code",
   "execution_count": 23,
   "metadata": {},
   "outputs": [
    {
     "data": {
      "text/plain": [
       "<matplotlib.legend.Legend at 0x150247610>"
      ]
     },
     "execution_count": 23,
     "metadata": {},
     "output_type": "execute_result"
    },
    {
     "data": {
      "image/png": "[encoded data removed]",
      "text/plain": [
       "<Figure size 1000x500 with 1 Axes>"
      ]
     },
     "metadata": {},
     "output_type": "display_data"
    }
   ],
   "source": [
    "plt.figure(figsize = (10,5))\n",
    "sns.kdeplot(y_true, label = 'true')\n",
    "sns.kdeplot(y_pred, label = 'pred')\n",
    "sns.kdeplot(y_expected_olist, label = 'expected')\n",
    "plt.xlim(xmax=100)\n",
    "plt.legend()"
   ]
  },
  {
   "attachments": {},
   "cell_type": "markdown",
   "metadata": {},
   "source": [
    "Compute the RMSE where the erorrs are now your errors "
   ]
  },
  {
   "cell_type": "code",
   "execution_count": 26,
   "metadata": {},
   "outputs": [
    {
     "data": {
      "text/plain": [
       "8.660865913751271"
      ]
     },
     "execution_count": 26,
     "metadata": {},
     "output_type": "execute_result"
    }
   ],
   "source": [
    "# Compute RMSE (i.e 𝛔(residuals))\n",
    "residuals = y_pred - y_true\n",
    "RMSE = (residuals**2).mean()**0.5\n",
    "RMSE"
   ]
  },
  {
   "attachments": {},
   "cell_type": "markdown",
   "metadata": {},
   "source": [
    "OLIST's RMSE is:"
   ]
  },
  {
   "cell_type": "code",
   "execution_count": 27,
   "metadata": {},
   "outputs": [
    {
     "data": {
      "text/plain": [
       "15.110701386210625"
      ]
     },
     "execution_count": 27,
     "metadata": {},
     "output_type": "execute_result"
    }
   ],
   "source": [
    "baseline_RMSE"
   ]
  },
  {
   "attachments": {},
   "cell_type": "markdown",
   "metadata": {},
   "source": [
    "Although the score was better, we have to take into account:\n",
    "- Many e-commerce and delivery services, the ETA is often overestimated\n",
    "- When customers recieve their orders earlier than expected, they are more likely to be satisfied"
   ]
  },
  {
   "attachments": {},
   "cell_type": "markdown",
   "metadata": {},
   "source": [
    "### Partial Correlations\n",
    "Visualize partial correlations with `sm.graphics.plot_partregress_grid`"
   ]
  },
  {
   "cell_type": "code",
   "execution_count": 28,
   "metadata": {},
   "outputs": [
    {
     "name": "stdout",
     "output_type": "stream",
     "text": [
      "eval_env: 1\n",
      "eval_env: 1\n",
      "eval_env: 1\n",
      "eval_env: 1\n",
      "eval_env: 1\n",
      "eval_env: 1\n"
     ]
    },
    {
     "data": {
      "image/png": "[encoded data removed]",
      "text/plain": [
       "<Figure size 1500x1000 with 6 Axes>"
      ]
     },
     "metadata": {},
     "output_type": "display_data"
    }
   ],
   "source": [
    "fig = plt.figure(figsize=(15,10))\n",
    "sm.graphics.plot_partregress_grid(model, fig=fig)\n",
    "plt.show()"
   ]
  },
  {
   "attachments": {},
   "cell_type": "markdown",
   "metadata": {},
   "source": [
    "**How do we read these graphs ?**\n",
    "\n",
    "👉 Let's focus - for instance - on the graph in the bottom left corner:\n",
    "\n",
    "<u>Partial regression of `wait_time` against `distance`</u>\n",
    "\n",
    "- Each point is an order in our dataset\n",
    "\n",
    "\n",
    "- `y-axis`: residuals of the `wait_time`, using all features except `distance`\n",
    "\n",
    "    - These residuals contain the remaining information about `wait_time` that couldn't be explained without `distance`\n",
    "\n",
    "\n",
    "- `x-axis`: residuals of predicting `distance` by using all other features (price, freight_value, etc...)\n",
    "    - These residuals contain the new information that `distance` brings to the table, which is not already explained by the other features in the model.\n",
    "\n"
   ]
  },
  {
   "attachments": {},
   "cell_type": "markdown",
   "metadata": {},
   "source": [
    "Are our residuals normally distributed?"
   ]
  },
  {
   "cell_type": "code",
   "execution_count": 29,
   "metadata": {},
   "outputs": [
    {
     "data": {
      "text/plain": [
       "<AxesSubplot: ylabel='Density'>"
      ]
     },
     "execution_count": 29,
     "metadata": {},
     "output_type": "execute_result"
    },
    {
     "data": {
      "image/png": "[encoded data removed]",
      "text/plain": [
       "<Figure size 640x480 with 1 Axes>"
      ]
     },
     "metadata": {},
     "output_type": "display_data"
    }
   ],
   "source": [
    "sns.kdeplot(residuals)"
   ]
  },
  {
   "attachments": {},
   "cell_type": "markdown",
   "metadata": {},
   "source": [
    "🎁 A more precise way to visualize whether a distribution is Gaussian or not is the <a href=\"https://www.statsmodels.org/stable/generated/statsmodels.graphics.gofplots.qqplot.html\">**`QQplot`**</a>. \n",
    "\n",
    "📈 Plot the QQplot of your residual below\n",
    "\n",
    "💡 Make sure to understand the relation between the QQ plot and the density previsouly drawn..\n",
    "\n",
    "📚 <a href=\"https://stats.stackexchange.com/questions/101274/how-to-interpret-a-qq-plot\">Stats.StackExchange.com - Interpreting QQplots</a>\n",
    "\n",
    "- `x-axis` : theoretical quantiles of a Gaussian distribution\n",
    "- `y-axis`: quantiles of the sorted variable\n",
    "\n",
    "💡 If the <span style=\"color:blue\">blue</span> points are aligned on the <span style=\"color:red\">red line</span> which is the identity function, the variable has a Gaussian distribution !"
   ]
  },
  {
   "cell_type": "markdown",
   "metadata": {},
   "source": []
  },
  {
   "cell_type": "code",
   "execution_count": 30,
   "metadata": {},
   "outputs": [
    {
     "data": {
      "image/png": "[encoded data removed]",
      "text/plain": [
       "<Figure size 640x480 with 1 Axes>"
      ]
     },
     "execution_count": 30,
     "metadata": {},
     "output_type": "execute_result"
    },
    {
     "data": {
      "image/png": "[encoded data removed]",
      "text/plain": [
       "<Figure size 640x480 with 1 Axes>"
      ]
     },
     "metadata": {},
     "output_type": "display_data"
    }
   ],
   "source": [
    "sm.qqplot(residuals, line='s')"
   ]
  },
  {
   "attachments": {},
   "cell_type": "markdown",
   "metadata": {},
   "source": [
    "##### Adding features such as size, category, etc. to the produt details\n",
    "\n",
    "### Add product details associated with each order (sum of product sizes)"
   ]
  },
  {
   "cell_type": "code",
   "execution_count": 32,
   "metadata": {},
   "outputs": [],
   "source": [
    "from olist.data import Olist\n",
    "data= Olist().get_data()"
   ]
  },
  {
   "cell_type": "code",
   "execution_count": 33,
   "metadata": {},
   "outputs": [],
   "source": [
    "products = data['products']\n",
    "order_items=data['order_items']"
   ]
  },
  {
   "cell_type": "code",
   "execution_count": 34,
   "metadata": {},
   "outputs": [
    {
     "data": {
      "text/html": [
       "<div>\n",
       "<style scoped>\n",
       "    .dataframe tbody tr th:only-of-type {\n",
       "        vertical-align: middle;\n",
       "    }\n",
       "\n",
       "    .dataframe tbody tr th {\n",
       "        vertical-align: top;\n",
       "    }\n",
       "\n",
       "    .dataframe thead th {\n",
       "        text-align: right;\n",
       "    }\n",
       "</style>\n",
       "<table border=\"1\" class=\"dataframe\">\n",
       "  <thead>\n",
       "    <tr style=\"text-align: right;\">\n",
       "      <th></th>\n",
       "      <th>order_id</th>\n",
       "      <th>product_id</th>\n",
       "      <th>order_item_count</th>\n",
       "      <th>product_name_lenght</th>\n",
       "      <th>product_description_lenght</th>\n",
       "      <th>product_photos_qty</th>\n",
       "      <th>product_weight_g</th>\n",
       "      <th>product_length_cm</th>\n",
       "      <th>product_height_cm</th>\n",
       "      <th>product_width_cm</th>\n",
       "    </tr>\n",
       "  </thead>\n",
       "  <tbody>\n",
       "    <tr>\n",
       "      <th>0</th>\n",
       "      <td>00010242fe8c5a6d1ba2dd792cb16214</td>\n",
       "      <td>4244733e06e7ecb4970a6e2683c13e61</td>\n",
       "      <td>1</td>\n",
       "      <td>58.0</td>\n",
       "      <td>598.0</td>\n",
       "      <td>4.0</td>\n",
       "      <td>650.0</td>\n",
       "      <td>28.0</td>\n",
       "      <td>9.0</td>\n",
       "      <td>14.0</td>\n",
       "    </tr>\n",
       "    <tr>\n",
       "      <th>1</th>\n",
       "      <td>130898c0987d1801452a8ed92a670612</td>\n",
       "      <td>4244733e06e7ecb4970a6e2683c13e61</td>\n",
       "      <td>1</td>\n",
       "      <td>58.0</td>\n",
       "      <td>598.0</td>\n",
       "      <td>4.0</td>\n",
       "      <td>650.0</td>\n",
       "      <td>28.0</td>\n",
       "      <td>9.0</td>\n",
       "      <td>14.0</td>\n",
       "    </tr>\n",
       "    <tr>\n",
       "      <th>2</th>\n",
       "      <td>532ed5e14e24ae1f0d735b91524b98b9</td>\n",
       "      <td>4244733e06e7ecb4970a6e2683c13e61</td>\n",
       "      <td>1</td>\n",
       "      <td>58.0</td>\n",
       "      <td>598.0</td>\n",
       "      <td>4.0</td>\n",
       "      <td>650.0</td>\n",
       "      <td>28.0</td>\n",
       "      <td>9.0</td>\n",
       "      <td>14.0</td>\n",
       "    </tr>\n",
       "    <tr>\n",
       "      <th>3</th>\n",
       "      <td>6f8c31653edb8c83e1a739408b5ff750</td>\n",
       "      <td>4244733e06e7ecb4970a6e2683c13e61</td>\n",
       "      <td>1</td>\n",
       "      <td>58.0</td>\n",
       "      <td>598.0</td>\n",
       "      <td>4.0</td>\n",
       "      <td>650.0</td>\n",
       "      <td>28.0</td>\n",
       "      <td>9.0</td>\n",
       "      <td>14.0</td>\n",
       "    </tr>\n",
       "    <tr>\n",
       "      <th>4</th>\n",
       "      <td>7d19f4ef4d04461989632411b7e588b9</td>\n",
       "      <td>4244733e06e7ecb4970a6e2683c13e61</td>\n",
       "      <td>1</td>\n",
       "      <td>58.0</td>\n",
       "      <td>598.0</td>\n",
       "      <td>4.0</td>\n",
       "      <td>650.0</td>\n",
       "      <td>28.0</td>\n",
       "      <td>9.0</td>\n",
       "      <td>14.0</td>\n",
       "    </tr>\n",
       "    <tr>\n",
       "      <th>...</th>\n",
       "      <td>...</td>\n",
       "      <td>...</td>\n",
       "      <td>...</td>\n",
       "      <td>...</td>\n",
       "      <td>...</td>\n",
       "      <td>...</td>\n",
       "      <td>...</td>\n",
       "      <td>...</td>\n",
       "      <td>...</td>\n",
       "      <td>...</td>\n",
       "    </tr>\n",
       "    <tr>\n",
       "      <th>102420</th>\n",
       "      <td>ffebd80e3291e811c308365936897efd</td>\n",
       "      <td>4cc4d02efc8f249c13355147fb44e34d</td>\n",
       "      <td>1</td>\n",
       "      <td>37.0</td>\n",
       "      <td>653.0</td>\n",
       "      <td>1.0</td>\n",
       "      <td>6700.0</td>\n",
       "      <td>35.0</td>\n",
       "      <td>12.0</td>\n",
       "      <td>22.0</td>\n",
       "    </tr>\n",
       "    <tr>\n",
       "      <th>102421</th>\n",
       "      <td>ffee31fb4b5e35c9123608015637c495</td>\n",
       "      <td>b10ecf8e33aaaea419a9fa860ea80fb5</td>\n",
       "      <td>1</td>\n",
       "      <td>30.0</td>\n",
       "      <td>308.0</td>\n",
       "      <td>1.0</td>\n",
       "      <td>2300.0</td>\n",
       "      <td>37.0</td>\n",
       "      <td>30.0</td>\n",
       "      <td>20.0</td>\n",
       "    </tr>\n",
       "    <tr>\n",
       "      <th>102422</th>\n",
       "      <td>fff7c4452f050315db1b3f24d9df5fcd</td>\n",
       "      <td>dd469c03ad67e201bc2179ef077dcd48</td>\n",
       "      <td>1</td>\n",
       "      <td>33.0</td>\n",
       "      <td>658.0</td>\n",
       "      <td>3.0</td>\n",
       "      <td>400.0</td>\n",
       "      <td>19.0</td>\n",
       "      <td>9.0</td>\n",
       "      <td>15.0</td>\n",
       "    </tr>\n",
       "    <tr>\n",
       "      <th>102423</th>\n",
       "      <td>fffa82886406ccf10c7b4e35c4ff2788</td>\n",
       "      <td>bbe7651fef80287a816ead73f065fc4b</td>\n",
       "      <td>1</td>\n",
       "      <td>32.0</td>\n",
       "      <td>280.0</td>\n",
       "      <td>2.0</td>\n",
       "      <td>2700.0</td>\n",
       "      <td>60.0</td>\n",
       "      <td>15.0</td>\n",
       "      <td>15.0</td>\n",
       "    </tr>\n",
       "    <tr>\n",
       "      <th>102424</th>\n",
       "      <td>fffe41c64501cc87c801fd61db3f6244</td>\n",
       "      <td>350688d9dc1e75ff97be326363655e01</td>\n",
       "      <td>1</td>\n",
       "      <td>47.0</td>\n",
       "      <td>511.0</td>\n",
       "      <td>1.0</td>\n",
       "      <td>600.0</td>\n",
       "      <td>30.0</td>\n",
       "      <td>3.0</td>\n",
       "      <td>19.0</td>\n",
       "    </tr>\n",
       "  </tbody>\n",
       "</table>\n",
       "<p>102425 rows × 10 columns</p>\n",
       "</div>"
      ],
      "text/plain": [
       "                                order_id                        product_id  \\\n",
       "0       00010242fe8c5a6d1ba2dd792cb16214  4244733e06e7ecb4970a6e2683c13e61   \n",
       "1       130898c0987d1801452a8ed92a670612  4244733e06e7ecb4970a6e2683c13e61   \n",
       "2       532ed5e14e24ae1f0d735b91524b98b9  4244733e06e7ecb4970a6e2683c13e61   \n",
       "3       6f8c31653edb8c83e1a739408b5ff750  4244733e06e7ecb4970a6e2683c13e61   \n",
       "4       7d19f4ef4d04461989632411b7e588b9  4244733e06e7ecb4970a6e2683c13e61   \n",
       "...                                  ...                               ...   \n",
       "102420  ffebd80e3291e811c308365936897efd  4cc4d02efc8f249c13355147fb44e34d   \n",
       "102421  ffee31fb4b5e35c9123608015637c495  b10ecf8e33aaaea419a9fa860ea80fb5   \n",
       "102422  fff7c4452f050315db1b3f24d9df5fcd  dd469c03ad67e201bc2179ef077dcd48   \n",
       "102423  fffa82886406ccf10c7b4e35c4ff2788  bbe7651fef80287a816ead73f065fc4b   \n",
       "102424  fffe41c64501cc87c801fd61db3f6244  350688d9dc1e75ff97be326363655e01   \n",
       "\n",
       "        order_item_count  product_name_lenght  product_description_lenght  \\\n",
       "0                      1                 58.0                       598.0   \n",
       "1                      1                 58.0                       598.0   \n",
       "2                      1                 58.0                       598.0   \n",
       "3                      1                 58.0                       598.0   \n",
       "4                      1                 58.0                       598.0   \n",
       "...                  ...                  ...                         ...   \n",
       "102420                 1                 37.0                       653.0   \n",
       "102421                 1                 30.0                       308.0   \n",
       "102422                 1                 33.0                       658.0   \n",
       "102423                 1                 32.0                       280.0   \n",
       "102424                 1                 47.0                       511.0   \n",
       "\n",
       "        product_photos_qty  product_weight_g  product_length_cm  \\\n",
       "0                      4.0             650.0               28.0   \n",
       "1                      4.0             650.0               28.0   \n",
       "2                      4.0             650.0               28.0   \n",
       "3                      4.0             650.0               28.0   \n",
       "4                      4.0             650.0               28.0   \n",
       "...                    ...               ...                ...   \n",
       "102420                 1.0            6700.0               35.0   \n",
       "102421                 1.0            2300.0               37.0   \n",
       "102422                 3.0             400.0               19.0   \n",
       "102423                 2.0            2700.0               60.0   \n",
       "102424                 1.0             600.0               30.0   \n",
       "\n",
       "        product_height_cm  product_width_cm  \n",
       "0                     9.0              14.0  \n",
       "1                     9.0              14.0  \n",
       "2                     9.0              14.0  \n",
       "3                     9.0              14.0  \n",
       "4                     9.0              14.0  \n",
       "...                   ...               ...  \n",
       "102420               12.0              22.0  \n",
       "102421               30.0              20.0  \n",
       "102422                9.0              15.0  \n",
       "102423               15.0              15.0  \n",
       "102424                3.0              19.0  \n",
       "\n",
       "[102425 rows x 10 columns]"
      ]
     },
     "execution_count": 34,
     "metadata": {},
     "output_type": "execute_result"
    }
   ],
   "source": [
    "order_items_products = (order_items.groupby([\"order_id\",\"product_id\"], as_index=False)\n",
    "                        .agg({\"order_item_id\":\"count\"})\n",
    "                        .rename(columns={\"order_item_id\":\"order_item_count\"})\n",
    "                        .merge(products.drop([\"product_category_name\"],axis=1), on=\"product_id\")\n",
    ")\n",
    "order_items_products"
   ]
  },
  {
   "cell_type": "code",
   "execution_count": 36,
   "metadata": {},
   "outputs": [
    {
     "data": {
      "text/html": [
       "<div>\n",
       "<style scoped>\n",
       "    .dataframe tbody tr th:only-of-type {\n",
       "        vertical-align: middle;\n",
       "    }\n",
       "\n",
       "    .dataframe tbody tr th {\n",
       "        vertical-align: top;\n",
       "    }\n",
       "\n",
       "    .dataframe thead th {\n",
       "        text-align: right;\n",
       "    }\n",
       "</style>\n",
       "<table border=\"1\" class=\"dataframe\">\n",
       "  <thead>\n",
       "    <tr style=\"text-align: right;\">\n",
       "      <th></th>\n",
       "      <th>order_id</th>\n",
       "      <th>product_weight_g_sum</th>\n",
       "      <th>product_length_cm_max</th>\n",
       "      <th>product_height_cm_max</th>\n",
       "      <th>product_width_cm_max</th>\n",
       "    </tr>\n",
       "  </thead>\n",
       "  <tbody>\n",
       "    <tr>\n",
       "      <th>0</th>\n",
       "      <td>00010242fe8c5a6d1ba2dd792cb16214</td>\n",
       "      <td>650.0</td>\n",
       "      <td>28.0</td>\n",
       "      <td>9.0</td>\n",
       "      <td>14.0</td>\n",
       "    </tr>\n",
       "    <tr>\n",
       "      <th>1</th>\n",
       "      <td>00018f77f2f0320c557190d7a144bdd3</td>\n",
       "      <td>30000.0</td>\n",
       "      <td>50.0</td>\n",
       "      <td>30.0</td>\n",
       "      <td>40.0</td>\n",
       "    </tr>\n",
       "    <tr>\n",
       "      <th>2</th>\n",
       "      <td>000229ec398224ef6ca0657da4fc703e</td>\n",
       "      <td>3050.0</td>\n",
       "      <td>33.0</td>\n",
       "      <td>13.0</td>\n",
       "      <td>33.0</td>\n",
       "    </tr>\n",
       "    <tr>\n",
       "      <th>3</th>\n",
       "      <td>00024acbcdf0a6daa1e931b038114c75</td>\n",
       "      <td>200.0</td>\n",
       "      <td>16.0</td>\n",
       "      <td>10.0</td>\n",
       "      <td>15.0</td>\n",
       "    </tr>\n",
       "    <tr>\n",
       "      <th>4</th>\n",
       "      <td>00042b26cf59d7ce69dfabb4e55b4fd9</td>\n",
       "      <td>3750.0</td>\n",
       "      <td>35.0</td>\n",
       "      <td>40.0</td>\n",
       "      <td>30.0</td>\n",
       "    </tr>\n",
       "    <tr>\n",
       "      <th>...</th>\n",
       "      <td>...</td>\n",
       "      <td>...</td>\n",
       "      <td>...</td>\n",
       "      <td>...</td>\n",
       "      <td>...</td>\n",
       "    </tr>\n",
       "    <tr>\n",
       "      <th>98661</th>\n",
       "      <td>fffc94f6ce00a00581880bf54a75a037</td>\n",
       "      <td>10150.0</td>\n",
       "      <td>89.0</td>\n",
       "      <td>15.0</td>\n",
       "      <td>40.0</td>\n",
       "    </tr>\n",
       "    <tr>\n",
       "      <th>98662</th>\n",
       "      <td>fffcd46ef2263f404302a634eb57f7eb</td>\n",
       "      <td>8950.0</td>\n",
       "      <td>45.0</td>\n",
       "      <td>26.0</td>\n",
       "      <td>38.0</td>\n",
       "    </tr>\n",
       "    <tr>\n",
       "      <th>98663</th>\n",
       "      <td>fffce4705a9662cd70adb13d4a31832d</td>\n",
       "      <td>967.0</td>\n",
       "      <td>21.0</td>\n",
       "      <td>24.0</td>\n",
       "      <td>19.0</td>\n",
       "    </tr>\n",
       "    <tr>\n",
       "      <th>98664</th>\n",
       "      <td>fffe18544ffabc95dfada21779c9644f</td>\n",
       "      <td>100.0</td>\n",
       "      <td>20.0</td>\n",
       "      <td>20.0</td>\n",
       "      <td>20.0</td>\n",
       "    </tr>\n",
       "    <tr>\n",
       "      <th>98665</th>\n",
       "      <td>fffe41c64501cc87c801fd61db3f6244</td>\n",
       "      <td>600.0</td>\n",
       "      <td>30.0</td>\n",
       "      <td>3.0</td>\n",
       "      <td>19.0</td>\n",
       "    </tr>\n",
       "  </tbody>\n",
       "</table>\n",
       "<p>98666 rows × 5 columns</p>\n",
       "</div>"
      ],
      "text/plain": [
       "                               order_id  product_weight_g_sum  \\\n",
       "0      00010242fe8c5a6d1ba2dd792cb16214                 650.0   \n",
       "1      00018f77f2f0320c557190d7a144bdd3               30000.0   \n",
       "2      000229ec398224ef6ca0657da4fc703e                3050.0   \n",
       "3      00024acbcdf0a6daa1e931b038114c75                 200.0   \n",
       "4      00042b26cf59d7ce69dfabb4e55b4fd9                3750.0   \n",
       "...                                 ...                   ...   \n",
       "98661  fffc94f6ce00a00581880bf54a75a037               10150.0   \n",
       "98662  fffcd46ef2263f404302a634eb57f7eb                8950.0   \n",
       "98663  fffce4705a9662cd70adb13d4a31832d                 967.0   \n",
       "98664  fffe18544ffabc95dfada21779c9644f                 100.0   \n",
       "98665  fffe41c64501cc87c801fd61db3f6244                 600.0   \n",
       "\n",
       "       product_length_cm_max  product_height_cm_max  product_width_cm_max  \n",
       "0                       28.0                    9.0                  14.0  \n",
       "1                       50.0                   30.0                  40.0  \n",
       "2                       33.0                   13.0                  33.0  \n",
       "3                       16.0                   10.0                  15.0  \n",
       "4                       35.0                   40.0                  30.0  \n",
       "...                      ...                    ...                   ...  \n",
       "98661                   89.0                   15.0                  40.0  \n",
       "98662                   45.0                   26.0                  38.0  \n",
       "98663                   21.0                   24.0                  19.0  \n",
       "98664                   20.0                   20.0                  20.0  \n",
       "98665                   30.0                    3.0                  19.0  \n",
       "\n",
       "[98666 rows x 5 columns]"
      ]
     },
     "execution_count": 36,
     "metadata": {},
     "output_type": "execute_result"
    }
   ],
   "source": [
    "# Since we want the sum of the product weights per order form our new DataFrame, we need to multiply weight by product count\n",
    "order_items_products['product_weight_g'] = order_items_products['product_weight_g']*order_items_products['order_item_count']\n",
    "\n",
    "order_items_features = order_items_products.groupby(\"order_id\", as_index = False).agg(\n",
    "    {\n",
    "        \"product_weight_g\":\"sum\",\n",
    "        \"product_length_cm\": \"max\",\n",
    "        \"product_height_cm\": \"max\",\n",
    "        \"product_width_cm\": \"max\",\n",
    "    }).rename(columns={\n",
    "        \"product_weight_g\": \"product_weight_g_sum\",\n",
    "        \"product_length_cm\": \"product_length_cm_max\",\n",
    "        \"product_height_cm\": \"product_height_cm_max\",\n",
    "        \"product_width_cm\": \"product_width_cm_max\",\n",
    "        })\n",
    "    \n",
    "order_items_features"
   ]
  },
  {
   "cell_type": "code",
   "execution_count": 37,
   "metadata": {},
   "outputs": [],
   "source": [
    "orders_with_details = orders.merge(order_items_features, on=\"order_id\", how='left').dropna()"
   ]
  },
  {
   "cell_type": "code",
   "execution_count": 52,
   "metadata": {},
   "outputs": [],
   "source": [
    "X2 = orders_with_details[[\n",
    "        \"number_of_products\",\n",
    "        \"number_of_sellers\",\n",
    "        \"price\",\n",
    "        \"freight_value\",\n",
    "        \"distance_seller_customer\",\n",
    "        \"product_weight_g_sum\",\n",
    "        \"product_length_cm_max\",\n",
    "        \"product_height_cm_max\",\n",
    "        \"product_width_cm_max\"]].copy()\n",
    "y2 = orders_with_details[\"wait_time\"].copy()"
   ]
  },
  {
   "cell_type": "code",
   "execution_count": 53,
   "metadata": {},
   "outputs": [],
   "source": [
    "# standardize (z-normalize) each features of X to compare coefficients\n",
    "for f in X2.columns:\n",
    "    mu = X2[f].mean()\n",
    "    sigma = X2[f].std()\n",
    "    X2[f] = X2[f].map(lambda x: (x - mu) / sigma)"
   ]
  },
  {
   "cell_type": "code",
   "execution_count": 54,
   "metadata": {},
   "outputs": [],
   "source": [
    "X2['constant'] = 1"
   ]
  },
  {
   "cell_type": "code",
   "execution_count": 57,
   "metadata": {},
   "outputs": [],
   "source": [
    "model2=sm.OLS(y2,X2).fit()"
   ]
  },
  {
   "cell_type": "code",
   "execution_count": 58,
   "metadata": {},
   "outputs": [
    {
     "data": {
      "text/html": [
       "<table class=\"simpletable\">\n",
       "<caption>OLS Regression Results</caption>\n",
       "<tr>\n",
       "  <th>Dep. Variable:</th>        <td>wait_time</td>    <th>  R-squared:         </th>  <td>   0.166</td>  \n",
       "</tr>\n",
       "<tr>\n",
       "  <th>Model:</th>                   <td>OLS</td>       <th>  Adj. R-squared:    </th>  <td>   0.165</td>  \n",
       "</tr>\n",
       "<tr>\n",
       "  <th>Method:</th>             <td>Least Squares</td>  <th>  F-statistic:       </th>  <td>   2112.</td>  \n",
       "</tr>\n",
       "<tr>\n",
       "  <th>Date:</th>             <td>Sun, 30 Apr 2023</td> <th>  Prob (F-statistic):</th>   <td>  0.00</td>   \n",
       "</tr>\n",
       "<tr>\n",
       "  <th>Time:</th>                 <td>18:38:23</td>     <th>  Log-Likelihood:    </th> <td>-3.4269e+05</td>\n",
       "</tr>\n",
       "<tr>\n",
       "  <th>No. Observations:</th>      <td> 95856</td>      <th>  AIC:               </th>  <td>6.854e+05</td> \n",
       "</tr>\n",
       "<tr>\n",
       "  <th>Df Residuals:</th>          <td> 95846</td>      <th>  BIC:               </th>  <td>6.855e+05</td> \n",
       "</tr>\n",
       "<tr>\n",
       "  <th>Df Model:</th>              <td>     9</td>      <th>                     </th>      <td> </td>     \n",
       "</tr>\n",
       "<tr>\n",
       "  <th>Covariance Type:</th>      <td>nonrobust</td>    <th>                     </th>      <td> </td>     \n",
       "</tr>\n",
       "</table>\n",
       "<table class=\"simpletable\">\n",
       "<tr>\n",
       "              <td></td>                <th>coef</th>     <th>std err</th>      <th>t</th>      <th>P>|t|</th>  <th>[0.025</th>    <th>0.975]</th>  \n",
       "</tr>\n",
       "<tr>\n",
       "  <th>number_of_products</th>       <td>   -0.1747</td> <td>    0.033</td> <td>   -5.232</td> <td> 0.000</td> <td>   -0.240</td> <td>   -0.109</td>\n",
       "</tr>\n",
       "<tr>\n",
       "  <th>number_of_sellers</th>        <td>   -0.3686</td> <td>    0.029</td> <td>  -12.600</td> <td> 0.000</td> <td>   -0.426</td> <td>   -0.311</td>\n",
       "</tr>\n",
       "<tr>\n",
       "  <th>price</th>                    <td>   -0.0249</td> <td>    0.031</td> <td>   -0.805</td> <td> 0.421</td> <td>   -0.085</td> <td>    0.036</td>\n",
       "</tr>\n",
       "<tr>\n",
       "  <th>freight_value</th>            <td>    0.0912</td> <td>    0.046</td> <td>    1.994</td> <td> 0.046</td> <td>    0.002</td> <td>    0.181</td>\n",
       "</tr>\n",
       "<tr>\n",
       "  <th>distance_seller_customer</th> <td>    3.7073</td> <td>    0.031</td> <td>  117.856</td> <td> 0.000</td> <td>    3.646</td> <td>    3.769</td>\n",
       "</tr>\n",
       "<tr>\n",
       "  <th>product_weight_g_sum</th>     <td>    0.4430</td> <td>    0.045</td> <td>    9.860</td> <td> 0.000</td> <td>    0.355</td> <td>    0.531</td>\n",
       "</tr>\n",
       "<tr>\n",
       "  <th>product_length_cm_max</th>    <td>    0.4018</td> <td>    0.034</td> <td>   11.661</td> <td> 0.000</td> <td>    0.334</td> <td>    0.469</td>\n",
       "</tr>\n",
       "<tr>\n",
       "  <th>product_height_cm_max</th>    <td>    0.2364</td> <td>    0.033</td> <td>    7.061</td> <td> 0.000</td> <td>    0.171</td> <td>    0.302</td>\n",
       "</tr>\n",
       "<tr>\n",
       "  <th>product_width_cm_max</th>     <td>   -0.0428</td> <td>    0.035</td> <td>   -1.213</td> <td> 0.225</td> <td>   -0.112</td> <td>    0.026</td>\n",
       "</tr>\n",
       "<tr>\n",
       "  <th>constant</th>                 <td>   12.5135</td> <td>    0.028</td> <td>  448.526</td> <td> 0.000</td> <td>   12.459</td> <td>   12.568</td>\n",
       "</tr>\n",
       "</table>\n",
       "<table class=\"simpletable\">\n",
       "<tr>\n",
       "  <th>Omnibus:</th>       <td>91611.645</td> <th>  Durbin-Watson:     </th>   <td>   1.989</td>  \n",
       "</tr>\n",
       "<tr>\n",
       "  <th>Prob(Omnibus):</th>  <td> 0.000</td>   <th>  Jarque-Bera (JB):  </th> <td>10185560.909</td>\n",
       "</tr>\n",
       "<tr>\n",
       "  <th>Skew:</th>           <td> 4.340</td>   <th>  Prob(JB):          </th>   <td>    0.00</td>  \n",
       "</tr>\n",
       "<tr>\n",
       "  <th>Kurtosis:</th>       <td>52.748</td>   <th>  Cond. No.          </th>   <td>    3.62</td>  \n",
       "</tr>\n",
       "</table><br/><br/>Notes:<br/>[1] Standard Errors assume that the covariance matrix of the errors is correctly specified."
      ],
      "text/plain": [
       "<class 'statsmodels.iolib.summary.Summary'>\n",
       "\"\"\"\n",
       "                            OLS Regression Results                            \n",
       "==============================================================================\n",
       "Dep. Variable:              wait_time   R-squared:                       0.166\n",
       "Model:                            OLS   Adj. R-squared:                  0.165\n",
       "Method:                 Least Squares   F-statistic:                     2112.\n",
       "Date:                Sun, 30 Apr 2023   Prob (F-statistic):               0.00\n",
       "Time:                        18:38:23   Log-Likelihood:            -3.4269e+05\n",
       "No. Observations:               95856   AIC:                         6.854e+05\n",
       "Df Residuals:                   95846   BIC:                         6.855e+05\n",
       "Df Model:                           9                                         \n",
       "Covariance Type:            nonrobust                                         \n",
       "============================================================================================\n",
       "                               coef    std err          t      P>|t|      [0.025      0.975]\n",
       "--------------------------------------------------------------------------------------------\n",
       "number_of_products          -0.1747      0.033     -5.232      0.000      -0.240      -0.109\n",
       "number_of_sellers           -0.3686      0.029    -12.600      0.000      -0.426      -0.311\n",
       "price                       -0.0249      0.031     -0.805      0.421      -0.085       0.036\n",
       "freight_value                0.0912      0.046      1.994      0.046       0.002       0.181\n",
       "distance_seller_customer     3.7073      0.031    117.856      0.000       3.646       3.769\n",
       "product_weight_g_sum         0.4430      0.045      9.860      0.000       0.355       0.531\n",
       "product_length_cm_max        0.4018      0.034     11.661      0.000       0.334       0.469\n",
       "product_height_cm_max        0.2364      0.033      7.061      0.000       0.171       0.302\n",
       "product_width_cm_max        -0.0428      0.035     -1.213      0.225      -0.112       0.026\n",
       "constant                    12.5135      0.028    448.526      0.000      12.459      12.568\n",
       "==============================================================================\n",
       "Omnibus:                    91611.645   Durbin-Watson:                   1.989\n",
       "Prob(Omnibus):                  0.000   Jarque-Bera (JB):         10185560.909\n",
       "Skew:                           4.340   Prob(JB):                         0.00\n",
       "Kurtosis:                      52.748   Cond. No.                         3.62\n",
       "==============================================================================\n",
       "\n",
       "Notes:\n",
       "[1] Standard Errors assume that the covariance matrix of the errors is correctly specified.\n",
       "\"\"\""
      ]
     },
     "execution_count": 58,
     "metadata": {},
     "output_type": "execute_result"
    }
   ],
   "source": [
    "model2.summary()"
   ]
  },
  {
   "cell_type": "code",
   "execution_count": null,
   "metadata": {},
   "outputs": [],
   "source": []
  }
 ],
 "metadata": {
  "kernelspec": {
   "display_name": "olist",
   "language": "python",
   "name": "python3"
  },
  "language_info": {
   "codemirror_mode": {
    "name": "ipython",
    "version": 3
   },
   "file_extension": ".py",
   "mimetype": "text/x-python",
   "name": "python",
   "nbconvert_exporter": "python",
   "pygments_lexer": "ipython3",
   "version": "3.8.12"
  },
  "orig_nbformat": 4
 },
 "nbformat": 4,
 "nbformat_minor": 2
}
