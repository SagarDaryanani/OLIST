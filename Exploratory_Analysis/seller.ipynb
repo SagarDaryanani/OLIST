{
 "cells": [
  {
   "cell_type": "code",
   "execution_count": 1,
   "metadata": {},
   "outputs": [],
   "source": [
    "import numpy as np\n",
    "import pandas as pd\n",
    "import matplotlib.pyplot as plt\n",
    "import seaborn as sns\n",
    "\n",
    "%load_ext autoreload\n",
    "%autoreload 2"
   ]
  },
  {
   "attachments": {},
   "cell_type": "markdown",
   "metadata": {},
   "source": [
    "# SELLER ANALYSIS\n",
    "\n",
    "Computing the P&L of each seller where we need the\n",
    "* Revenue\n",
    "* Cost\n",
    "* Profit\n",
    "\n",
    "Where theres\n",
    "* a 10% fee per sale\n",
    "* 80 BRL subscription fee per month\n",
    "* a review cost of ```{1: 100, 2: 50, 3: 40, 4: 0, 5: 0}``` as key and cost in BRL as value"
   ]
  },
  {
   "cell_type": "code",
   "execution_count": 2,
   "metadata": {},
   "outputs": [],
   "source": [
    "def get_review_score(self):\n",
    "    \"\"\"\n",
    "    Returns a DataFrame with:\n",
    "    'seller_id', 'share_of_five_stars', 'share_of_one_stars', 'review_score', 'cost_of_reviews'\n",
    "    \"\"\"\n",
    "\n",
    "    orders_reviews = self.order.get_review_score()\n",
    "    orders_sellers = self.data['order_items'][['order_id', 'seller_id'\n",
    "                                               ]].drop_duplicates()\n",
    "\n",
    "    df = orders_sellers.merge(orders_reviews, on='order_id')\n",
    "\n",
    "    df['cost_of_review'] = df.review_score.map({\n",
    "        1: 100,\n",
    "        2: 50,\n",
    "        3: 40,\n",
    "        4: 0,\n",
    "        5: 0\n",
    "    })\n",
    "\n",
    "    df_grouped_by_sellers = df.groupby('seller_id', as_index=False).agg({\n",
    "        'dim_is_one_star':\n",
    "        'mean',\n",
    "        'dim_is_five_star':\n",
    "        'mean',\n",
    "        'review_score':\n",
    "        'mean',\n",
    "        'cost_of_review':\n",
    "        'sum'\n",
    "    })\n",
    "    df_grouped_by_sellers.columns = [\n",
    "        'seller_id', 'share_of_one_stars', 'share_of_five_stars',\n",
    "        'review_score', 'cost_of_reviews'\n",
    "    ]\n",
    "\n",
    "    return df_grouped_by_sellers"
   ]
  },
  {
   "cell_type": "code",
   "execution_count": 3,
   "metadata": {},
   "outputs": [],
   "source": [
    "def get_training_data(self):\n",
    "    \"\"\"\n",
    "    Returns a DataFrame with:\n",
    "    ['seller_id', 'seller_city', 'seller_state', 'delay_to_carrier',\n",
    "    'wait_time', 'date_first_sale', 'date_last_sale', 'months_on_olist',\n",
    "    'share_of_one_stars', 'share_of_five_stars', 'review_score',\n",
    "    'cost_of_reviews', 'n_orders', 'quantity', 'quantity_per_order',\n",
    "    'sales', 'revenues', 'profits']\n",
    "    \"\"\"\n",
    "    training_set =\\\n",
    "        self.get_seller_features()\\\n",
    "            .merge(\n",
    "            self.get_seller_delay_wait_time(), on='seller_id'\n",
    "        ).merge(\n",
    "            self.get_active_dates(), on='seller_id'\n",
    "        ).merge(\n",
    "            self.get_review_score(), on='seller_id'\n",
    "        ).merge(\n",
    "            self.get_quantity(), on='seller_id'\n",
    "        ).merge(\n",
    "            self.get_sales(), on='seller_id'\n",
    "        )\n",
    "\n",
    "    # Add seller economics (revenues, profits)\n",
    "    olist_monthly_fee = 80\n",
    "    olist_sales_cut = 0.1\n",
    "\n",
    "    training_set['revenues'] = training_set['months_on_olist'] * olist_monthly_fee\\\n",
    "        + olist_sales_cut * training_set['sales']\n",
    "\n",
    "    training_set['profits'] = training_set['revenues'] - training_set[\n",
    "        'cost_of_reviews']\n",
    "\n",
    "    return training_set"
   ]
  },
  {
   "cell_type": "code",
   "execution_count": 4,
   "metadata": {},
   "outputs": [],
   "source": [
    "from olist.seller import Seller as SellerUpdated\n",
    "sellers = SellerUpdated().get_training_data()"
   ]
  },
  {
   "cell_type": "code",
   "execution_count": null,
   "metadata": {},
   "outputs": [],
   "source": []
  },
  {
   "cell_type": "code",
   "execution_count": 5,
   "metadata": {},
   "outputs": [
    {
     "ename": "KeyError",
     "evalue": "'profits'",
     "output_type": "error",
     "traceback": [
      "\u001b[0;31m---------------------------------------------------------------------------\u001b[0m",
      "\u001b[0;31mKeyError\u001b[0m                                  Traceback (most recent call last)",
      "Cell \u001b[0;32mIn[5], line 1\u001b[0m\n\u001b[0;32m----> 1\u001b[0m sorted_sellers \u001b[39m=\u001b[39m sellers\u001b[39m.\u001b[39;49msort_values(by\u001b[39m=\u001b[39;49m\u001b[39m'\u001b[39;49m\u001b[39mprofits\u001b[39;49m\u001b[39m'\u001b[39;49m)[[\u001b[39m'\u001b[39m\u001b[39mprofits\u001b[39m\u001b[39m'\u001b[39m, \u001b[39m'\u001b[39m\u001b[39mn_orders\u001b[39m\u001b[39m'\u001b[39m, \u001b[39m'\u001b[39m\u001b[39mrevenues\u001b[39m\u001b[39m'\u001b[39m]]\u001b[39m.\u001b[39mreset_index()\n\u001b[1;32m      2\u001b[0m sorted_sellers\u001b[39m.\u001b[39mhead()\n\u001b[1;32m      4\u001b[0m plt\u001b[39m.\u001b[39mfigure(figsize\u001b[39m=\u001b[39m(\u001b[39m10\u001b[39m,\u001b[39m5\u001b[39m))\n",
      "File \u001b[0;32m~/.pyenv/versions/3.8.12/envs/olist/lib/python3.8/site-packages/pandas/util/_decorators.py:331\u001b[0m, in \u001b[0;36mdeprecate_nonkeyword_arguments.<locals>.decorate.<locals>.wrapper\u001b[0;34m(*args, **kwargs)\u001b[0m\n\u001b[1;32m    325\u001b[0m \u001b[39mif\u001b[39;00m \u001b[39mlen\u001b[39m(args) \u001b[39m>\u001b[39m num_allow_args:\n\u001b[1;32m    326\u001b[0m     warnings\u001b[39m.\u001b[39mwarn(\n\u001b[1;32m    327\u001b[0m         msg\u001b[39m.\u001b[39mformat(arguments\u001b[39m=\u001b[39m_format_argument_list(allow_args)),\n\u001b[1;32m    328\u001b[0m         \u001b[39mFutureWarning\u001b[39;00m,\n\u001b[1;32m    329\u001b[0m         stacklevel\u001b[39m=\u001b[39mfind_stack_level(),\n\u001b[1;32m    330\u001b[0m     )\n\u001b[0;32m--> 331\u001b[0m \u001b[39mreturn\u001b[39;00m func(\u001b[39m*\u001b[39;49margs, \u001b[39m*\u001b[39;49m\u001b[39m*\u001b[39;49mkwargs)\n",
      "File \u001b[0;32m~/.pyenv/versions/3.8.12/envs/olist/lib/python3.8/site-packages/pandas/core/frame.py:6912\u001b[0m, in \u001b[0;36mDataFrame.sort_values\u001b[0;34m(self, by, axis, ascending, inplace, kind, na_position, ignore_index, key)\u001b[0m\n\u001b[1;32m   6908\u001b[0m \u001b[39melif\u001b[39;00m \u001b[39mlen\u001b[39m(by):\n\u001b[1;32m   6909\u001b[0m     \u001b[39m# len(by) == 1\u001b[39;00m\n\u001b[1;32m   6911\u001b[0m     by \u001b[39m=\u001b[39m by[\u001b[39m0\u001b[39m]\n\u001b[0;32m-> 6912\u001b[0m     k \u001b[39m=\u001b[39m \u001b[39mself\u001b[39;49m\u001b[39m.\u001b[39;49m_get_label_or_level_values(by, axis\u001b[39m=\u001b[39;49maxis)\n\u001b[1;32m   6914\u001b[0m     \u001b[39m# need to rewrap column in Series to apply key function\u001b[39;00m\n\u001b[1;32m   6915\u001b[0m     \u001b[39mif\u001b[39;00m key \u001b[39mis\u001b[39;00m \u001b[39mnot\u001b[39;00m \u001b[39mNone\u001b[39;00m:\n\u001b[1;32m   6916\u001b[0m         \u001b[39m# error: Incompatible types in assignment (expression has type\u001b[39;00m\n\u001b[1;32m   6917\u001b[0m         \u001b[39m# \"Series\", variable has type \"ndarray\")\u001b[39;00m\n",
      "File \u001b[0;32m~/.pyenv/versions/3.8.12/envs/olist/lib/python3.8/site-packages/pandas/core/generic.py:1850\u001b[0m, in \u001b[0;36mNDFrame._get_label_or_level_values\u001b[0;34m(self, key, axis)\u001b[0m\n\u001b[1;32m   1844\u001b[0m     values \u001b[39m=\u001b[39m (\n\u001b[1;32m   1845\u001b[0m         \u001b[39mself\u001b[39m\u001b[39m.\u001b[39maxes[axis]\n\u001b[1;32m   1846\u001b[0m         \u001b[39m.\u001b[39mget_level_values(key)  \u001b[39m# type: ignore[assignment]\u001b[39;00m\n\u001b[1;32m   1847\u001b[0m         \u001b[39m.\u001b[39m_values\n\u001b[1;32m   1848\u001b[0m     )\n\u001b[1;32m   1849\u001b[0m \u001b[39melse\u001b[39;00m:\n\u001b[0;32m-> 1850\u001b[0m     \u001b[39mraise\u001b[39;00m \u001b[39mKeyError\u001b[39;00m(key)\n\u001b[1;32m   1852\u001b[0m \u001b[39m# Check for duplicates\u001b[39;00m\n\u001b[1;32m   1853\u001b[0m \u001b[39mif\u001b[39;00m values\u001b[39m.\u001b[39mndim \u001b[39m>\u001b[39m \u001b[39m1\u001b[39m:\n",
      "\u001b[0;31mKeyError\u001b[0m: 'profits'"
     ]
    }
   ],
   "source": [
    "sorted_sellers = sellers.sort_values(by='profits')[['profits', 'n_orders', 'revenues']].reset_index()\n",
    "sorted_sellers.head()\n",
    "\n",
    "plt.figure(figsize=(10,5))\n",
    "sorted_sellers.profits.plot()\n",
    "plt.title('gross profit per seller')\n",
    "plt.xlabel('seller id')"
   ]
  },
  {
   "cell_type": "code",
   "execution_count": 7,
   "metadata": {},
   "outputs": [
    {
     "ename": "NameError",
     "evalue": "name 'total_profits' is not defined",
     "output_type": "error",
     "traceback": [
      "\u001b[0;31m---------------------------------------------------------------------------\u001b[0m",
      "\u001b[0;31mNameError\u001b[0m                                 Traceback (most recent call last)",
      "Cell \u001b[0;32mIn[7], line 1\u001b[0m\n\u001b[0;32m----> 1\u001b[0m total_profits \u001b[39m-\u001b[39m sorted_sellers\u001b[39m.\u001b[39mcumsum()\u001b[39m.\u001b[39mprofits\u001b[39m.\u001b[39mplot()\n",
      "\u001b[0;31mNameError\u001b[0m: name 'total_profits' is not defined"
     ]
    }
   ],
   "source": []
  },
  {
   "cell_type": "code",
   "execution_count": null,
   "metadata": {},
   "outputs": [],
   "source": []
  }
 ],
 "metadata": {
  "kernelspec": {
   "display_name": "olist",
   "language": "python",
   "name": "python3"
  },
  "language_info": {
   "codemirror_mode": {
    "name": "ipython",
    "version": 3
   },
   "file_extension": ".py",
   "mimetype": "text/x-python",
   "name": "python",
   "nbconvert_exporter": "python",
   "pygments_lexer": "ipython3",
   "version": "3.8.12"
  },
  "orig_nbformat": 4,
  "vscode": {
   "interpreter": {
    "hash": "058c4ef5ff5d902d40ae280479904a0104d2e1d76e458adc027f6c0503e5d9d8"
   }
  }
 },
 "nbformat": 4,
 "nbformat_minor": 2
}
